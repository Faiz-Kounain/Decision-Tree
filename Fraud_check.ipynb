{
 "cells": [
  {
   "cell_type": "raw",
   "id": "7d5eb175",
   "metadata": {},
   "source": [
    "Use decision trees to prepare a model on fraud data \n",
    "treating those who have taxable_income <= 30000 as \"Risky\" and others are \"Good\"\n",
    "\n",
    "Data Description :\n",
    "\n",
    "Undergrad : person is under graduated or not\n",
    "Marital.Status : marital status of a person\n",
    "Taxable.Income : Taxable income is the amount of how much tax an individual owes to the government \n",
    "Work Experience : Work experience of an individual person\n",
    "Urban : Whether that person belongs to urban area or not"
   ]
  },
  {
   "cell_type": "code",
   "execution_count": 2,
   "id": "8dd59c6c",
   "metadata": {},
   "outputs": [],
   "source": [
    "import pandas as pd\n",
    "import matplotlib.pyplot as plt\n",
    "from sklearn import datasets  \n",
    "import numpy as np\n",
    "from sklearn.model_selection import train_test_split\n",
    "from sklearn.tree import  DecisionTreeClassifier\n",
    "from sklearn import tree\n",
    "from sklearn.metrics import classification_report\n",
    "from sklearn import preprocessing"
   ]
  },
  {
   "cell_type": "code",
   "execution_count": 3,
   "id": "dd64b85b",
   "metadata": {},
   "outputs": [
    {
     "data": {
      "text/html": [
       "<div>\n",
       "<style scoped>\n",
       "    .dataframe tbody tr th:only-of-type {\n",
       "        vertical-align: middle;\n",
       "    }\n",
       "\n",
       "    .dataframe tbody tr th {\n",
       "        vertical-align: top;\n",
       "    }\n",
       "\n",
       "    .dataframe thead th {\n",
       "        text-align: right;\n",
       "    }\n",
       "</style>\n",
       "<table border=\"1\" class=\"dataframe\">\n",
       "  <thead>\n",
       "    <tr style=\"text-align: right;\">\n",
       "      <th></th>\n",
       "      <th>Undergrad</th>\n",
       "      <th>Marital.Status</th>\n",
       "      <th>Taxable.Income</th>\n",
       "      <th>City.Population</th>\n",
       "      <th>Work.Experience</th>\n",
       "      <th>Urban</th>\n",
       "    </tr>\n",
       "  </thead>\n",
       "  <tbody>\n",
       "    <tr>\n",
       "      <th>0</th>\n",
       "      <td>NO</td>\n",
       "      <td>Single</td>\n",
       "      <td>68833</td>\n",
       "      <td>50047</td>\n",
       "      <td>10</td>\n",
       "      <td>YES</td>\n",
       "    </tr>\n",
       "    <tr>\n",
       "      <th>1</th>\n",
       "      <td>YES</td>\n",
       "      <td>Divorced</td>\n",
       "      <td>33700</td>\n",
       "      <td>134075</td>\n",
       "      <td>18</td>\n",
       "      <td>YES</td>\n",
       "    </tr>\n",
       "    <tr>\n",
       "      <th>2</th>\n",
       "      <td>NO</td>\n",
       "      <td>Married</td>\n",
       "      <td>36925</td>\n",
       "      <td>160205</td>\n",
       "      <td>30</td>\n",
       "      <td>YES</td>\n",
       "    </tr>\n",
       "    <tr>\n",
       "      <th>3</th>\n",
       "      <td>YES</td>\n",
       "      <td>Single</td>\n",
       "      <td>50190</td>\n",
       "      <td>193264</td>\n",
       "      <td>15</td>\n",
       "      <td>YES</td>\n",
       "    </tr>\n",
       "    <tr>\n",
       "      <th>4</th>\n",
       "      <td>NO</td>\n",
       "      <td>Married</td>\n",
       "      <td>81002</td>\n",
       "      <td>27533</td>\n",
       "      <td>28</td>\n",
       "      <td>NO</td>\n",
       "    </tr>\n",
       "  </tbody>\n",
       "</table>\n",
       "</div>"
      ],
      "text/plain": [
       "  Undergrad Marital.Status  Taxable.Income  City.Population  Work.Experience  \\\n",
       "0        NO         Single           68833            50047               10   \n",
       "1       YES       Divorced           33700           134075               18   \n",
       "2        NO        Married           36925           160205               30   \n",
       "3       YES         Single           50190           193264               15   \n",
       "4        NO        Married           81002            27533               28   \n",
       "\n",
       "  Urban  \n",
       "0   YES  \n",
       "1   YES  \n",
       "2   YES  \n",
       "3   YES  \n",
       "4    NO  "
      ]
     },
     "execution_count": 3,
     "metadata": {},
     "output_type": "execute_result"
    }
   ],
   "source": [
    "df=pd.read_csv('Fraud_check.csv')\n",
    "df.head()"
   ]
  },
  {
   "cell_type": "code",
   "execution_count": 4,
   "id": "d00e9542",
   "metadata": {},
   "outputs": [
    {
     "data": {
      "text/html": [
       "<div>\n",
       "<style scoped>\n",
       "    .dataframe tbody tr th:only-of-type {\n",
       "        vertical-align: middle;\n",
       "    }\n",
       "\n",
       "    .dataframe tbody tr th {\n",
       "        vertical-align: top;\n",
       "    }\n",
       "\n",
       "    .dataframe thead th {\n",
       "        text-align: right;\n",
       "    }\n",
       "</style>\n",
       "<table border=\"1\" class=\"dataframe\">\n",
       "  <thead>\n",
       "    <tr style=\"text-align: right;\">\n",
       "      <th></th>\n",
       "      <th>Undergrad</th>\n",
       "      <th>Marital_Status</th>\n",
       "      <th>Taxable_Income</th>\n",
       "      <th>City_Population</th>\n",
       "      <th>Work_Experience</th>\n",
       "      <th>Urban</th>\n",
       "    </tr>\n",
       "  </thead>\n",
       "  <tbody>\n",
       "    <tr>\n",
       "      <th>0</th>\n",
       "      <td>NO</td>\n",
       "      <td>Single</td>\n",
       "      <td>68833</td>\n",
       "      <td>50047</td>\n",
       "      <td>10</td>\n",
       "      <td>YES</td>\n",
       "    </tr>\n",
       "    <tr>\n",
       "      <th>1</th>\n",
       "      <td>YES</td>\n",
       "      <td>Divorced</td>\n",
       "      <td>33700</td>\n",
       "      <td>134075</td>\n",
       "      <td>18</td>\n",
       "      <td>YES</td>\n",
       "    </tr>\n",
       "    <tr>\n",
       "      <th>2</th>\n",
       "      <td>NO</td>\n",
       "      <td>Married</td>\n",
       "      <td>36925</td>\n",
       "      <td>160205</td>\n",
       "      <td>30</td>\n",
       "      <td>YES</td>\n",
       "    </tr>\n",
       "    <tr>\n",
       "      <th>3</th>\n",
       "      <td>YES</td>\n",
       "      <td>Single</td>\n",
       "      <td>50190</td>\n",
       "      <td>193264</td>\n",
       "      <td>15</td>\n",
       "      <td>YES</td>\n",
       "    </tr>\n",
       "    <tr>\n",
       "      <th>4</th>\n",
       "      <td>NO</td>\n",
       "      <td>Married</td>\n",
       "      <td>81002</td>\n",
       "      <td>27533</td>\n",
       "      <td>28</td>\n",
       "      <td>NO</td>\n",
       "    </tr>\n",
       "  </tbody>\n",
       "</table>\n",
       "</div>"
      ],
      "text/plain": [
       "  Undergrad Marital_Status  Taxable_Income  City_Population  Work_Experience  \\\n",
       "0        NO         Single           68833            50047               10   \n",
       "1       YES       Divorced           33700           134075               18   \n",
       "2        NO        Married           36925           160205               30   \n",
       "3       YES         Single           50190           193264               15   \n",
       "4        NO        Married           81002            27533               28   \n",
       "\n",
       "  Urban  \n",
       "0   YES  \n",
       "1   YES  \n",
       "2   YES  \n",
       "3   YES  \n",
       "4    NO  "
      ]
     },
     "execution_count": 4,
     "metadata": {},
     "output_type": "execute_result"
    }
   ],
   "source": [
    "#renaming the columns\n",
    "df.rename(columns={'Marital.Status':'Marital_Status','Taxable.Income':'Taxable_Income',\n",
    "                      'City.Population':'City_Population','Work.Experience':'Work_Experience'},inplace=True)\n",
    "df.head()"
   ]
  },
  {
   "cell_type": "code",
   "execution_count": 5,
   "id": "5fc86deb",
   "metadata": {},
   "outputs": [
    {
     "data": {
      "text/html": [
       "<div>\n",
       "<style scoped>\n",
       "    .dataframe tbody tr th:only-of-type {\n",
       "        vertical-align: middle;\n",
       "    }\n",
       "\n",
       "    .dataframe tbody tr th {\n",
       "        vertical-align: top;\n",
       "    }\n",
       "\n",
       "    .dataframe thead th {\n",
       "        text-align: right;\n",
       "    }\n",
       "</style>\n",
       "<table border=\"1\" class=\"dataframe\">\n",
       "  <thead>\n",
       "    <tr style=\"text-align: right;\">\n",
       "      <th></th>\n",
       "      <th>Taxable_Income</th>\n",
       "      <th>City_Population</th>\n",
       "      <th>Work_Experience</th>\n",
       "      <th>Undergrad_YES</th>\n",
       "      <th>Marital_Status_Married</th>\n",
       "      <th>Marital_Status_Single</th>\n",
       "      <th>Urban_YES</th>\n",
       "    </tr>\n",
       "  </thead>\n",
       "  <tbody>\n",
       "    <tr>\n",
       "      <th>0</th>\n",
       "      <td>68833</td>\n",
       "      <td>50047</td>\n",
       "      <td>10</td>\n",
       "      <td>0</td>\n",
       "      <td>0</td>\n",
       "      <td>1</td>\n",
       "      <td>1</td>\n",
       "    </tr>\n",
       "    <tr>\n",
       "      <th>1</th>\n",
       "      <td>33700</td>\n",
       "      <td>134075</td>\n",
       "      <td>18</td>\n",
       "      <td>1</td>\n",
       "      <td>0</td>\n",
       "      <td>0</td>\n",
       "      <td>1</td>\n",
       "    </tr>\n",
       "    <tr>\n",
       "      <th>2</th>\n",
       "      <td>36925</td>\n",
       "      <td>160205</td>\n",
       "      <td>30</td>\n",
       "      <td>0</td>\n",
       "      <td>1</td>\n",
       "      <td>0</td>\n",
       "      <td>1</td>\n",
       "    </tr>\n",
       "    <tr>\n",
       "      <th>3</th>\n",
       "      <td>50190</td>\n",
       "      <td>193264</td>\n",
       "      <td>15</td>\n",
       "      <td>1</td>\n",
       "      <td>0</td>\n",
       "      <td>1</td>\n",
       "      <td>1</td>\n",
       "    </tr>\n",
       "    <tr>\n",
       "      <th>4</th>\n",
       "      <td>81002</td>\n",
       "      <td>27533</td>\n",
       "      <td>28</td>\n",
       "      <td>0</td>\n",
       "      <td>1</td>\n",
       "      <td>0</td>\n",
       "      <td>0</td>\n",
       "    </tr>\n",
       "  </tbody>\n",
       "</table>\n",
       "</div>"
      ],
      "text/plain": [
       "   Taxable_Income  City_Population  Work_Experience  Undergrad_YES  \\\n",
       "0           68833            50047               10              0   \n",
       "1           33700           134075               18              1   \n",
       "2           36925           160205               30              0   \n",
       "3           50190           193264               15              1   \n",
       "4           81002            27533               28              0   \n",
       "\n",
       "   Marital_Status_Married  Marital_Status_Single  Urban_YES  \n",
       "0                       0                      1          1  \n",
       "1                       0                      0          1  \n",
       "2                       1                      0          1  \n",
       "3                       0                      1          1  \n",
       "4                       1                      0          0  "
      ]
     },
     "execution_count": 5,
     "metadata": {},
     "output_type": "execute_result"
    }
   ],
   "source": [
    "df=pd.get_dummies(df,drop_first=True)\n",
    "df.head()"
   ]
  },
  {
   "cell_type": "code",
   "execution_count": 9,
   "id": "32cc393c",
   "metadata": {},
   "outputs": [
    {
     "name": "stdout",
     "output_type": "stream",
     "text": [
      "['Risky', 'Risky', 'Risky', 'Risky', 'Risky', 'Risky', 'Risky', 'Risky', 'Risky', 'Risky', 'Good', 'Risky', 'Good', 'Risky', 'Risky', 'Risky', 'Good', 'Risky', 'Risky', 'Good', 'Risky', 'Good', 'Risky', 'Risky', 'Risky', 'Risky', 'Risky', 'Risky', 'Good', 'Risky', 'Risky', 'Risky', 'Risky', 'Risky', 'Good', 'Risky', 'Good', 'Risky', 'Good', 'Risky', 'Risky', 'Risky', 'Risky', 'Risky', 'Risky', 'Risky', 'Risky', 'Risky', 'Good', 'Risky', 'Risky', 'Risky', 'Risky', 'Good', 'Risky', 'Good', 'Risky', 'Risky', 'Good', 'Risky', 'Risky', 'Good', 'Risky', 'Risky', 'Risky', 'Risky', 'Risky', 'Risky', 'Good', 'Risky', 'Risky', 'Risky', 'Risky', 'Risky', 'Risky', 'Risky', 'Risky', 'Risky', 'Risky', 'Good', 'Risky', 'Risky', 'Risky', 'Risky', 'Risky', 'Good', 'Risky', 'Good', 'Risky', 'Good', 'Risky', 'Risky', 'Risky', 'Good', 'Good', 'Risky', 'Good', 'Risky', 'Good', 'Risky', 'Risky', 'Risky', 'Risky', 'Risky', 'Risky', 'Risky', 'Good', 'Risky', 'Risky', 'Risky', 'Good', 'Risky', 'Risky', 'Risky', 'Good', 'Risky', 'Risky', 'Risky', 'Good', 'Risky', 'Risky', 'Good', 'Good', 'Good', 'Risky', 'Risky', 'Good', 'Risky', 'Risky', 'Risky', 'Risky', 'Risky', 'Risky', 'Risky', 'Risky', 'Good', 'Risky', 'Good', 'Risky', 'Risky', 'Good', 'Risky', 'Risky', 'Good', 'Risky', 'Risky', 'Risky', 'Risky', 'Risky', 'Risky', 'Risky', 'Risky', 'Good', 'Good', 'Good', 'Risky', 'Risky', 'Risky', 'Good', 'Risky', 'Risky', 'Risky', 'Risky', 'Good', 'Risky', 'Risky', 'Risky', 'Risky', 'Good', 'Risky', 'Risky', 'Good', 'Good', 'Risky', 'Risky', 'Risky', 'Risky', 'Risky', 'Risky', 'Good', 'Risky', 'Good', 'Good', 'Risky', 'Risky', 'Risky', 'Risky', 'Risky', 'Good', 'Risky', 'Risky', 'Risky', 'Risky', 'Risky', 'Good', 'Risky', 'Good', 'Risky', 'Risky', 'Good', 'Risky', 'Risky', 'Risky', 'Risky', 'Good', 'Good', 'Risky', 'Good', 'Risky', 'Risky', 'Risky', 'Risky', 'Risky', 'Risky', 'Risky', 'Risky', 'Risky', 'Risky', 'Risky', 'Good', 'Risky', 'Risky', 'Risky', 'Risky', 'Risky', 'Risky', 'Risky', 'Risky', 'Good', 'Risky', 'Good', 'Risky', 'Good', 'Good', 'Risky', 'Risky', 'Risky', 'Good', 'Risky', 'Risky', 'Risky', 'Good', 'Risky', 'Risky', 'Risky', 'Risky', 'Risky', 'Good', 'Good', 'Risky', 'Risky', 'Risky', 'Risky', 'Risky', 'Risky', 'Risky', 'Risky', 'Risky', 'Risky', 'Good', 'Risky', 'Risky', 'Risky', 'Risky', 'Risky', 'Good', 'Risky', 'Good', 'Risky', 'Risky', 'Risky', 'Risky', 'Risky', 'Risky', 'Risky', 'Risky', 'Risky', 'Risky', 'Good', 'Risky', 'Good', 'Risky', 'Risky', 'Risky', 'Good', 'Risky', 'Risky', 'Risky', 'Good', 'Risky', 'Risky', 'Risky', 'Good', 'Risky', 'Risky', 'Risky', 'Risky', 'Risky', 'Risky', 'Risky', 'Risky', 'Good', 'Risky', 'Risky', 'Risky', 'Risky', 'Risky', 'Risky', 'Risky', 'Risky', 'Risky', 'Risky', 'Risky', 'Risky', 'Risky', 'Good', 'Risky', 'Risky', 'Risky', 'Risky', 'Risky', 'Risky', 'Risky', 'Risky', 'Risky', 'Risky', 'Good', 'Good', 'Risky', 'Good', 'Risky', 'Good', 'Risky', 'Good', 'Risky', 'Risky', 'Risky', 'Good', 'Good', 'Good', 'Risky', 'Risky', 'Risky', 'Risky', 'Risky', 'Risky', 'Good', 'Good', 'Risky', 'Good', 'Risky', 'Risky', 'Good', 'Risky', 'Good', 'Risky', 'Good', 'Good', 'Risky', 'Risky', 'Risky', 'Risky', 'Good', 'Good', 'Risky', 'Risky', 'Risky', 'Good', 'Risky', 'Risky', 'Risky', 'Risky', 'Risky', 'Risky', 'Risky', 'Risky', 'Risky', 'Risky', 'Risky', 'Good', 'Risky', 'Risky', 'Risky', 'Risky', 'Risky', 'Risky', 'Risky', 'Risky', 'Risky', 'Risky', 'Risky', 'Risky', 'Good', 'Risky', 'Risky', 'Risky', 'Risky', 'Risky', 'Good', 'Risky', 'Risky', 'Risky', 'Risky', 'Risky', 'Risky', 'Risky', 'Risky', 'Risky', 'Risky', 'Risky', 'Risky', 'Risky', 'Risky', 'Risky', 'Risky', 'Risky', 'Risky', 'Risky', 'Risky', 'Risky', 'Risky', 'Risky', 'Risky', 'Risky', 'Risky', 'Risky', 'Risky', 'Risky', 'Good', 'Risky', 'Risky', 'Risky', 'Risky', 'Good', 'Good', 'Risky', 'Risky', 'Good', 'Good', 'Good', 'Risky', 'Risky', 'Risky', 'Good', 'Good', 'Risky', 'Good', 'Risky', 'Risky', 'Risky', 'Risky', 'Risky', 'Risky', 'Risky', 'Risky', 'Risky', 'Risky', 'Good', 'Good', 'Good', 'Risky', 'Risky', 'Good', 'Risky', 'Risky', 'Good', 'Risky', 'Risky', 'Risky', 'Risky', 'Risky', 'Good', 'Risky', 'Risky', 'Risky', 'Risky', 'Risky', 'Risky', 'Risky', 'Risky', 'Risky', 'Risky', 'Risky', 'Good', 'Risky', 'Risky', 'Risky', 'Risky', 'Risky', 'Risky', 'Risky', 'Good', 'Risky', 'Good', 'Risky', 'Risky', 'Risky', 'Risky', 'Risky', 'Risky', 'Risky', 'Risky', 'Risky', 'Risky', 'Risky', 'Risky', 'Good', 'Risky', 'Risky', 'Good', 'Risky', 'Risky', 'Risky', 'Risky', 'Risky', 'Risky', 'Risky', 'Good', 'Risky', 'Risky', 'Risky', 'Risky', 'Risky', 'Risky', 'Good', 'Risky', 'Good', 'Risky', 'Risky', 'Risky', 'Risky', 'Risky', 'Risky', 'Good', 'Risky', 'Risky', 'Risky', 'Risky', 'Risky', 'Risky', 'Good', 'Good', 'Risky', 'Risky', 'Good', 'Risky', 'Risky', 'Risky', 'Risky', 'Risky', 'Risky', 'Risky', 'Risky', 'Risky', 'Risky', 'Risky', 'Risky', 'Good', 'Risky', 'Risky', 'Risky', 'Risky', 'Risky', 'Risky', 'Risky', 'Risky', 'Risky', 'Good', 'Risky', 'Risky', 'Risky', 'Risky', 'Risky', 'Risky', 'Risky', 'Good', 'Risky', 'Risky', 'Risky', 'Risky', 'Risky', 'Risky', 'Risky', 'Risky', 'Risky', 'Risky', 'Risky', 'Risky', 'Risky', 'Risky', 'Risky', 'Good', 'Risky', 'Risky', 'Risky', 'Risky', 'Risky', 'Risky', 'Risky', 'Risky']\n"
     ]
    }
   ],
   "source": [
    "a=pd.Series(df['Taxable_Income'])\n",
    "lst=[]\n",
    "for i in a:\n",
    "    x='Good' if i<=30000 else 'Risky'\n",
    "    lst.append(x)\n",
    "print(lst)   "
   ]
  },
  {
   "cell_type": "code",
   "execution_count": 10,
   "id": "52b170c4",
   "metadata": {},
   "outputs": [],
   "source": [
    "a=pd.DataFrame(lst)"
   ]
  },
  {
   "cell_type": "code",
   "execution_count": 11,
   "id": "2a45db07",
   "metadata": {},
   "outputs": [],
   "source": [
    "df['Tax_Inc']=a"
   ]
  },
  {
   "cell_type": "code",
   "execution_count": 12,
   "id": "c4988e32",
   "metadata": {},
   "outputs": [
    {
     "data": {
      "text/html": [
       "<div>\n",
       "<style scoped>\n",
       "    .dataframe tbody tr th:only-of-type {\n",
       "        vertical-align: middle;\n",
       "    }\n",
       "\n",
       "    .dataframe tbody tr th {\n",
       "        vertical-align: top;\n",
       "    }\n",
       "\n",
       "    .dataframe thead th {\n",
       "        text-align: right;\n",
       "    }\n",
       "</style>\n",
       "<table border=\"1\" class=\"dataframe\">\n",
       "  <thead>\n",
       "    <tr style=\"text-align: right;\">\n",
       "      <th></th>\n",
       "      <th>Taxable_Income</th>\n",
       "      <th>City_Population</th>\n",
       "      <th>Work_Experience</th>\n",
       "      <th>Undergrad_YES</th>\n",
       "      <th>Marital_Status_Married</th>\n",
       "      <th>Marital_Status_Single</th>\n",
       "      <th>Urban_YES</th>\n",
       "      <th>Tax_Inc</th>\n",
       "    </tr>\n",
       "  </thead>\n",
       "  <tbody>\n",
       "    <tr>\n",
       "      <th>0</th>\n",
       "      <td>68833</td>\n",
       "      <td>50047</td>\n",
       "      <td>10</td>\n",
       "      <td>0</td>\n",
       "      <td>0</td>\n",
       "      <td>1</td>\n",
       "      <td>1</td>\n",
       "      <td>Risky</td>\n",
       "    </tr>\n",
       "    <tr>\n",
       "      <th>1</th>\n",
       "      <td>33700</td>\n",
       "      <td>134075</td>\n",
       "      <td>18</td>\n",
       "      <td>1</td>\n",
       "      <td>0</td>\n",
       "      <td>0</td>\n",
       "      <td>1</td>\n",
       "      <td>Risky</td>\n",
       "    </tr>\n",
       "    <tr>\n",
       "      <th>2</th>\n",
       "      <td>36925</td>\n",
       "      <td>160205</td>\n",
       "      <td>30</td>\n",
       "      <td>0</td>\n",
       "      <td>1</td>\n",
       "      <td>0</td>\n",
       "      <td>1</td>\n",
       "      <td>Risky</td>\n",
       "    </tr>\n",
       "    <tr>\n",
       "      <th>3</th>\n",
       "      <td>50190</td>\n",
       "      <td>193264</td>\n",
       "      <td>15</td>\n",
       "      <td>1</td>\n",
       "      <td>0</td>\n",
       "      <td>1</td>\n",
       "      <td>1</td>\n",
       "      <td>Risky</td>\n",
       "    </tr>\n",
       "    <tr>\n",
       "      <th>4</th>\n",
       "      <td>81002</td>\n",
       "      <td>27533</td>\n",
       "      <td>28</td>\n",
       "      <td>0</td>\n",
       "      <td>1</td>\n",
       "      <td>0</td>\n",
       "      <td>0</td>\n",
       "      <td>Risky</td>\n",
       "    </tr>\n",
       "  </tbody>\n",
       "</table>\n",
       "</div>"
      ],
      "text/plain": [
       "   Taxable_Income  City_Population  Work_Experience  Undergrad_YES  \\\n",
       "0           68833            50047               10              0   \n",
       "1           33700           134075               18              1   \n",
       "2           36925           160205               30              0   \n",
       "3           50190           193264               15              1   \n",
       "4           81002            27533               28              0   \n",
       "\n",
       "   Marital_Status_Married  Marital_Status_Single  Urban_YES Tax_Inc  \n",
       "0                       0                      1          1   Risky  \n",
       "1                       0                      0          1   Risky  \n",
       "2                       1                      0          1   Risky  \n",
       "3                       0                      1          1   Risky  \n",
       "4                       1                      0          0   Risky  "
      ]
     },
     "execution_count": 12,
     "metadata": {},
     "output_type": "execute_result"
    }
   ],
   "source": [
    "df.head()"
   ]
  },
  {
   "cell_type": "code",
   "execution_count": 13,
   "id": "d810ee37",
   "metadata": {},
   "outputs": [],
   "source": [
    "df=df.drop(columns=['Taxable_Income'],axis=1)"
   ]
  },
  {
   "cell_type": "code",
   "execution_count": 14,
   "id": "94b206f8",
   "metadata": {},
   "outputs": [
    {
     "data": {
      "text/html": [
       "<div>\n",
       "<style scoped>\n",
       "    .dataframe tbody tr th:only-of-type {\n",
       "        vertical-align: middle;\n",
       "    }\n",
       "\n",
       "    .dataframe tbody tr th {\n",
       "        vertical-align: top;\n",
       "    }\n",
       "\n",
       "    .dataframe thead th {\n",
       "        text-align: right;\n",
       "    }\n",
       "</style>\n",
       "<table border=\"1\" class=\"dataframe\">\n",
       "  <thead>\n",
       "    <tr style=\"text-align: right;\">\n",
       "      <th></th>\n",
       "      <th>City_Population</th>\n",
       "      <th>Work_Experience</th>\n",
       "      <th>Undergrad_YES</th>\n",
       "      <th>Marital_Status_Married</th>\n",
       "      <th>Marital_Status_Single</th>\n",
       "      <th>Urban_YES</th>\n",
       "      <th>Tax_Inc</th>\n",
       "    </tr>\n",
       "  </thead>\n",
       "  <tbody>\n",
       "    <tr>\n",
       "      <th>0</th>\n",
       "      <td>50047</td>\n",
       "      <td>10</td>\n",
       "      <td>0</td>\n",
       "      <td>0</td>\n",
       "      <td>1</td>\n",
       "      <td>1</td>\n",
       "      <td>Risky</td>\n",
       "    </tr>\n",
       "    <tr>\n",
       "      <th>1</th>\n",
       "      <td>134075</td>\n",
       "      <td>18</td>\n",
       "      <td>1</td>\n",
       "      <td>0</td>\n",
       "      <td>0</td>\n",
       "      <td>1</td>\n",
       "      <td>Risky</td>\n",
       "    </tr>\n",
       "    <tr>\n",
       "      <th>2</th>\n",
       "      <td>160205</td>\n",
       "      <td>30</td>\n",
       "      <td>0</td>\n",
       "      <td>1</td>\n",
       "      <td>0</td>\n",
       "      <td>1</td>\n",
       "      <td>Risky</td>\n",
       "    </tr>\n",
       "    <tr>\n",
       "      <th>3</th>\n",
       "      <td>193264</td>\n",
       "      <td>15</td>\n",
       "      <td>1</td>\n",
       "      <td>0</td>\n",
       "      <td>1</td>\n",
       "      <td>1</td>\n",
       "      <td>Risky</td>\n",
       "    </tr>\n",
       "    <tr>\n",
       "      <th>4</th>\n",
       "      <td>27533</td>\n",
       "      <td>28</td>\n",
       "      <td>0</td>\n",
       "      <td>1</td>\n",
       "      <td>0</td>\n",
       "      <td>0</td>\n",
       "      <td>Risky</td>\n",
       "    </tr>\n",
       "  </tbody>\n",
       "</table>\n",
       "</div>"
      ],
      "text/plain": [
       "   City_Population  Work_Experience  Undergrad_YES  Marital_Status_Married  \\\n",
       "0            50047               10              0                       0   \n",
       "1           134075               18              1                       0   \n",
       "2           160205               30              0                       1   \n",
       "3           193264               15              1                       0   \n",
       "4            27533               28              0                       1   \n",
       "\n",
       "   Marital_Status_Single  Urban_YES Tax_Inc  \n",
       "0                      1          1   Risky  \n",
       "1                      0          1   Risky  \n",
       "2                      0          1   Risky  \n",
       "3                      1          1   Risky  \n",
       "4                      0          0   Risky  "
      ]
     },
     "execution_count": 14,
     "metadata": {},
     "output_type": "execute_result"
    }
   ],
   "source": [
    "df.head()"
   ]
  },
  {
   "cell_type": "code",
   "execution_count": 15,
   "id": "eaf1898b",
   "metadata": {},
   "outputs": [
    {
     "data": {
      "text/html": [
       "<div>\n",
       "<style scoped>\n",
       "    .dataframe tbody tr th:only-of-type {\n",
       "        vertical-align: middle;\n",
       "    }\n",
       "\n",
       "    .dataframe tbody tr th {\n",
       "        vertical-align: top;\n",
       "    }\n",
       "\n",
       "    .dataframe thead th {\n",
       "        text-align: right;\n",
       "    }\n",
       "</style>\n",
       "<table border=\"1\" class=\"dataframe\">\n",
       "  <thead>\n",
       "    <tr style=\"text-align: right;\">\n",
       "      <th></th>\n",
       "      <th>City_Population</th>\n",
       "      <th>Work_Experience</th>\n",
       "      <th>Undergrad_YES</th>\n",
       "      <th>Marital_Status_Married</th>\n",
       "      <th>Marital_Status_Single</th>\n",
       "      <th>Urban_YES</th>\n",
       "      <th>Tax_Inc</th>\n",
       "    </tr>\n",
       "  </thead>\n",
       "  <tbody>\n",
       "    <tr>\n",
       "      <th>0</th>\n",
       "      <td>50047</td>\n",
       "      <td>10</td>\n",
       "      <td>0</td>\n",
       "      <td>0</td>\n",
       "      <td>1</td>\n",
       "      <td>1</td>\n",
       "      <td>1</td>\n",
       "    </tr>\n",
       "    <tr>\n",
       "      <th>1</th>\n",
       "      <td>134075</td>\n",
       "      <td>18</td>\n",
       "      <td>1</td>\n",
       "      <td>0</td>\n",
       "      <td>0</td>\n",
       "      <td>1</td>\n",
       "      <td>1</td>\n",
       "    </tr>\n",
       "    <tr>\n",
       "      <th>2</th>\n",
       "      <td>160205</td>\n",
       "      <td>30</td>\n",
       "      <td>0</td>\n",
       "      <td>1</td>\n",
       "      <td>0</td>\n",
       "      <td>1</td>\n",
       "      <td>1</td>\n",
       "    </tr>\n",
       "    <tr>\n",
       "      <th>3</th>\n",
       "      <td>193264</td>\n",
       "      <td>15</td>\n",
       "      <td>1</td>\n",
       "      <td>0</td>\n",
       "      <td>1</td>\n",
       "      <td>1</td>\n",
       "      <td>1</td>\n",
       "    </tr>\n",
       "    <tr>\n",
       "      <th>4</th>\n",
       "      <td>27533</td>\n",
       "      <td>28</td>\n",
       "      <td>0</td>\n",
       "      <td>1</td>\n",
       "      <td>0</td>\n",
       "      <td>0</td>\n",
       "      <td>1</td>\n",
       "    </tr>\n",
       "  </tbody>\n",
       "</table>\n",
       "</div>"
      ],
      "text/plain": [
       "   City_Population  Work_Experience  Undergrad_YES  Marital_Status_Married  \\\n",
       "0            50047               10              0                       0   \n",
       "1           134075               18              1                       0   \n",
       "2           160205               30              0                       1   \n",
       "3           193264               15              1                       0   \n",
       "4            27533               28              0                       1   \n",
       "\n",
       "   Marital_Status_Single  Urban_YES  Tax_Inc  \n",
       "0                      1          1        1  \n",
       "1                      0          1        1  \n",
       "2                      0          1        1  \n",
       "3                      1          1        1  \n",
       "4                      0          0        1  "
      ]
     },
     "execution_count": 15,
     "metadata": {},
     "output_type": "execute_result"
    }
   ],
   "source": [
    "from sklearn.preprocessing import LabelEncoder\n",
    "label_encoder=LabelEncoder()\n",
    "df['Tax_Inc']=label_encoder.fit_transform(df['Tax_Inc'])\n",
    "df.head()"
   ]
  },
  {
   "cell_type": "code",
   "execution_count": 17,
   "id": "803db57b",
   "metadata": {},
   "outputs": [
    {
     "data": {
      "text/html": [
       "<div>\n",
       "<style scoped>\n",
       "    .dataframe tbody tr th:only-of-type {\n",
       "        vertical-align: middle;\n",
       "    }\n",
       "\n",
       "    .dataframe tbody tr th {\n",
       "        vertical-align: top;\n",
       "    }\n",
       "\n",
       "    .dataframe thead th {\n",
       "        text-align: right;\n",
       "    }\n",
       "</style>\n",
       "<table border=\"1\" class=\"dataframe\">\n",
       "  <thead>\n",
       "    <tr style=\"text-align: right;\">\n",
       "      <th></th>\n",
       "      <th>City_Population</th>\n",
       "      <th>Work_Experience</th>\n",
       "      <th>Undergrad_YES</th>\n",
       "      <th>Marital_Status_Married</th>\n",
       "      <th>Marital_Status_Single</th>\n",
       "      <th>Urban_YES</th>\n",
       "      <th>Tax_Inc</th>\n",
       "    </tr>\n",
       "  </thead>\n",
       "  <tbody>\n",
       "    <tr>\n",
       "      <th>0</th>\n",
       "      <td>0.139472</td>\n",
       "      <td>0.333333</td>\n",
       "      <td>0.0</td>\n",
       "      <td>0.0</td>\n",
       "      <td>1.0</td>\n",
       "      <td>1.0</td>\n",
       "      <td>1.0</td>\n",
       "    </tr>\n",
       "    <tr>\n",
       "      <th>1</th>\n",
       "      <td>0.622394</td>\n",
       "      <td>0.600000</td>\n",
       "      <td>1.0</td>\n",
       "      <td>0.0</td>\n",
       "      <td>0.0</td>\n",
       "      <td>1.0</td>\n",
       "      <td>1.0</td>\n",
       "    </tr>\n",
       "    <tr>\n",
       "      <th>2</th>\n",
       "      <td>0.772568</td>\n",
       "      <td>1.000000</td>\n",
       "      <td>0.0</td>\n",
       "      <td>1.0</td>\n",
       "      <td>0.0</td>\n",
       "      <td>1.0</td>\n",
       "      <td>1.0</td>\n",
       "    </tr>\n",
       "    <tr>\n",
       "      <th>3</th>\n",
       "      <td>0.962563</td>\n",
       "      <td>0.500000</td>\n",
       "      <td>1.0</td>\n",
       "      <td>0.0</td>\n",
       "      <td>1.0</td>\n",
       "      <td>1.0</td>\n",
       "      <td>1.0</td>\n",
       "    </tr>\n",
       "    <tr>\n",
       "      <th>4</th>\n",
       "      <td>0.010081</td>\n",
       "      <td>0.933333</td>\n",
       "      <td>0.0</td>\n",
       "      <td>1.0</td>\n",
       "      <td>0.0</td>\n",
       "      <td>0.0</td>\n",
       "      <td>1.0</td>\n",
       "    </tr>\n",
       "  </tbody>\n",
       "</table>\n",
       "</div>"
      ],
      "text/plain": [
       "   City_Population  Work_Experience  Undergrad_YES  Marital_Status_Married  \\\n",
       "0         0.139472         0.333333            0.0                     0.0   \n",
       "1         0.622394         0.600000            1.0                     0.0   \n",
       "2         0.772568         1.000000            0.0                     1.0   \n",
       "3         0.962563         0.500000            1.0                     0.0   \n",
       "4         0.010081         0.933333            0.0                     1.0   \n",
       "\n",
       "   Marital_Status_Single  Urban_YES  Tax_Inc  \n",
       "0                    1.0        1.0      1.0  \n",
       "1                    0.0        1.0      1.0  \n",
       "2                    0.0        1.0      1.0  \n",
       "3                    1.0        1.0      1.0  \n",
       "4                    0.0        0.0      1.0  "
      ]
     },
     "execution_count": 17,
     "metadata": {},
     "output_type": "execute_result"
    }
   ],
   "source": [
    "# Normalization function \n",
    "def norm_func(i):\n",
    "    x = (i-i.min())/(i.max()-i.min())\n",
    "    return (x)\n",
    "\n",
    "# Normalized data frame (considering the numerical part of data)\n",
    "df = norm_func(df.iloc[:,:])\n",
    "df.head()"
   ]
  },
  {
   "cell_type": "code",
   "execution_count": 18,
   "id": "00addcc2",
   "metadata": {},
   "outputs": [],
   "source": [
    "X=df.drop(columns=['Tax_Inc'],axis=1)\n",
    "y=df['Tax_Inc']"
   ]
  },
  {
   "cell_type": "code",
   "execution_count": 19,
   "id": "31fd76be",
   "metadata": {},
   "outputs": [],
   "source": [
    "# Splitting data into training and testing data set\n",
    "X_train, X_test,y_train,y_test = train_test_split(X,y, test_size=0.2,random_state=40)"
   ]
  },
  {
   "cell_type": "markdown",
   "id": "e979be8b",
   "metadata": {},
   "source": [
    "# Building Decision Tree Classifier using Entropy Criteria C5.0"
   ]
  },
  {
   "cell_type": "code",
   "execution_count": 58,
   "id": "4de4a67d",
   "metadata": {},
   "outputs": [
    {
     "data": {
      "text/plain": [
       "DecisionTreeClassifier(criterion='entropy', max_depth=5)"
      ]
     },
     "execution_count": 58,
     "metadata": {},
     "output_type": "execute_result"
    }
   ],
   "source": [
    "model = DecisionTreeClassifier(criterion = 'entropy',max_depth=5)\n",
    "model.fit(X_train,y_train)"
   ]
  },
  {
   "cell_type": "code",
   "execution_count": 59,
   "id": "4356b689",
   "metadata": {},
   "outputs": [
    {
     "data": {
      "text/plain": [
       "Index(['City_Population', 'Work_Experience', 'Undergrad_YES',\n",
       "       'Marital_Status_Married', 'Marital_Status_Single', 'Urban_YES'],\n",
       "      dtype='object')"
      ]
     },
     "execution_count": 59,
     "metadata": {},
     "output_type": "execute_result"
    }
   ],
   "source": [
    "X.columns"
   ]
  },
  {
   "cell_type": "code",
   "execution_count": 60,
   "id": "2df9e811",
   "metadata": {},
   "outputs": [
    {
     "data": {
      "image/png": "[encoded data removed]",
      "text/plain": [
       "<Figure size 1200x1200 with 1 Axes>"
      ]
     },
     "metadata": {
      "needs_background": "light"
     },
     "output_type": "display_data"
    }
   ],
   "source": [
    "fn=['City_Population', 'Work_Experience', 'Undergrad_YES',\n",
    "       'Marital_Status_Married', 'Marital_Status_Single', 'Urban_YES']\n",
    "cn=['Risky','Good']\n",
    "fig, axes = plt.subplots(nrows = 1,ncols = 1,figsize = (4,4), dpi=300)\n",
    "tree.plot_tree(model,\n",
    "               feature_names = fn, \n",
    "               class_names=cn,\n",
    "               filled = True);"
   ]
  },
  {
   "cell_type": "code",
   "execution_count": 61,
   "id": "3a3bad6f",
   "metadata": {},
   "outputs": [
    {
     "data": {
      "text/plain": [
       "array([1., 1., 1., 1., 1., 1., 1., 1., 1., 1., 1., 1., 1., 1., 1., 1., 1.,\n",
       "       1., 1., 0., 1., 1., 1., 1., 1., 1., 1., 1., 1., 1., 1., 1., 1., 1.,\n",
       "       0., 1., 1., 1., 1., 1., 1., 1., 1., 1., 1., 1., 1., 1., 1., 1., 1.,\n",
       "       1., 1., 1., 1., 1., 1., 1., 1., 1., 1., 1., 1., 1., 1., 1., 1., 1.,\n",
       "       1., 1., 1., 1., 1., 0., 1., 1., 1., 1., 1., 1., 1., 1., 1., 1., 1.,\n",
       "       1., 1., 1., 1., 1., 1., 1., 1., 1., 1., 1., 1., 1., 1., 1., 1., 1.,\n",
       "       1., 1., 1., 1., 1., 1., 1., 1., 1., 1., 1., 1., 1., 1., 1., 1., 1.,\n",
       "       1.])"
      ]
     },
     "execution_count": 61,
     "metadata": {},
     "output_type": "execute_result"
    }
   ],
   "source": [
    "ypred=model.predict(X_test)\n",
    "ypred"
   ]
  },
  {
   "cell_type": "code",
   "execution_count": 62,
   "id": "6456ca49",
   "metadata": {},
   "outputs": [
    {
     "data": {
      "text/plain": [
       "array([[ 1, 27],\n",
       "       [ 2, 90]], dtype=int64)"
      ]
     },
     "execution_count": 62,
     "metadata": {},
     "output_type": "execute_result"
    }
   ],
   "source": [
    "from sklearn.metrics import confusion_matrix\n",
    "confusion_matrix(y_test,ypred)"
   ]
  },
  {
   "cell_type": "code",
   "execution_count": 63,
   "id": "6b3f0276",
   "metadata": {},
   "outputs": [
    {
     "data": {
      "text/plain": [
       "0.7583333333333333"
      ]
     },
     "execution_count": 63,
     "metadata": {},
     "output_type": "execute_result"
    }
   ],
   "source": [
    "model.score(X_test,y_test)"
   ]
  },
  {
   "cell_type": "code",
   "execution_count": 64,
   "id": "ea04a27f",
   "metadata": {},
   "outputs": [
    {
     "data": {
      "text/plain": [
       "0.8166666666666667"
      ]
     },
     "execution_count": 64,
     "metadata": {},
     "output_type": "execute_result"
    }
   ],
   "source": [
    "model.score(X_train,y_train)"
   ]
  },
  {
   "cell_type": "markdown",
   "id": "b4a70d0c",
   "metadata": {},
   "source": [
    "# Building Decision Tree Classifier using CART"
   ]
  },
  {
   "cell_type": "code",
   "execution_count": 68,
   "id": "48f8f40e",
   "metadata": {},
   "outputs": [
    {
     "data": {
      "text/plain": [
       "DecisionTreeClassifier(max_depth=5)"
      ]
     },
     "execution_count": 68,
     "metadata": {},
     "output_type": "execute_result"
    }
   ],
   "source": [
    "model1 = DecisionTreeClassifier(criterion = 'gini',max_depth=5)\n",
    "model1.fit(X_train,y_train)"
   ]
  },
  {
   "cell_type": "code",
   "execution_count": 69,
   "id": "fbfecb12",
   "metadata": {},
   "outputs": [
    {
     "data": {
      "text/plain": [
       "array([1., 1., 1., 1., 1., 1., 1., 1., 1., 1., 1., 1., 1., 1., 1., 1., 1.,\n",
       "       1., 1., 0., 1., 1., 1., 1., 1., 1., 1., 1., 1., 1., 1., 1., 1., 1.,\n",
       "       0., 1., 1., 1., 1., 1., 1., 1., 1., 1., 1., 1., 1., 1., 1., 1., 1.,\n",
       "       1., 1., 1., 1., 1., 1., 1., 1., 1., 1., 1., 1., 1., 1., 1., 1., 1.,\n",
       "       1., 1., 1., 1., 1., 0., 1., 1., 1., 1., 1., 1., 1., 1., 1., 1., 1.,\n",
       "       1., 1., 1., 1., 1., 1., 1., 1., 1., 1., 1., 1., 1., 1., 1., 1., 1.,\n",
       "       1., 1., 1., 1., 1., 1., 1., 1., 1., 1., 1., 1., 1., 1., 1., 1., 1.,\n",
       "       1.])"
      ]
     },
     "execution_count": 69,
     "metadata": {},
     "output_type": "execute_result"
    }
   ],
   "source": [
    "ypred=model1.predict(X_test)\n",
    "ypred"
   ]
  },
  {
   "cell_type": "code",
   "execution_count": 70,
   "id": "d0ce5172",
   "metadata": {},
   "outputs": [
    {
     "data": {
      "text/plain": [
       "0.7583333333333333"
      ]
     },
     "execution_count": 70,
     "metadata": {},
     "output_type": "execute_result"
    }
   ],
   "source": [
    "model1.score(X_test,y_test)"
   ]
  },
  {
   "cell_type": "code",
   "execution_count": 71,
   "id": "4d5d858b",
   "metadata": {},
   "outputs": [
    {
     "data": {
      "text/plain": [
       "0.8166666666666667"
      ]
     },
     "execution_count": 71,
     "metadata": {},
     "output_type": "execute_result"
    }
   ],
   "source": [
    "model1.score(X_train,y_train)"
   ]
  },
  {
   "cell_type": "code",
   "execution_count": null,
   "id": "0edb960f",
   "metadata": {},
   "outputs": [],
   "source": []
  }
 ],
 "metadata": {
  "kernelspec": {
   "display_name": "Python 3",
   "language": "python",
   "name": "python3"
  },
  "language_info": {
   "codemirror_mode": {
    "name": "ipython",
    "version": 3
   },
   "file_extension": ".py",
   "mimetype": "text/x-python",
   "name": "python",
   "nbconvert_exporter": "python",
   "pygments_lexer": "ipython3",
   "version": "3.8.8"
  }
 },
 "nbformat": 4,
 "nbformat_minor": 5
}
